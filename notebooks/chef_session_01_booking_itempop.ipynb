{
  "nbformat": 4,
  "nbformat_minor": 0,
  "metadata": {
    "colab": {
      "name": "chef-session-01-booking-itempop.ipynb",
      "provenance": [],
      "collapsed_sections": [],
      "mount_file_id": "192CbCpX6ZjFvqpDFyuYHVssGwBvFr94w",
      "authorship_tag": "ABX9TyN6vnOsOc82NPz/aEjk2xfN",
      "include_colab_link": true
    },
    "kernelspec": {
      "name": "python3",
      "display_name": "Python 3"
    },
    "language_info": {
      "name": "python"
    }
  },
  "cells": [
    {
      "cell_type": "markdown",
      "metadata": {
        "id": "view-in-github",
        "colab_type": "text"
      },
      "source": [
        "<a href=\"https://colab.research.google.com/github/sparsh-ai/chef-session/blob/main/notebooks/chef_session_01_booking_itempop.ipynb\" target=\"_parent\"><img src=\"https://colab.research.google.com/assets/colab-badge.svg\" alt=\"Open In Colab\"/></a>"
      ]
    },
    {
      "cell_type": "markdown",
      "metadata": {
        "id": "MRrUvPKgE0rk"
      },
      "source": [
        "## Setup"
      ]
    },
    {
      "cell_type": "code",
      "metadata": {
        "id": "0G3R3Ab3p1Wb"
      },
      "source": [
        "import os\n",
        "project_name = \"chef-session\"; branch = \"main\"; account = \"sparsh-ai\"\n",
        "project_path = os.path.join('/content', project_name)"
      ],
      "execution_count": 1,
      "outputs": []
    },
    {
      "cell_type": "code",
      "metadata": {
        "id": "cfu34YGOp1Wc"
      },
      "source": [
        "if not os.path.exists(project_path):\n",
        "    !pip install -U -q dvc dvc[gdrive]\n",
        "    !cp -r /content/drive/MyDrive/git_credentials/. ~\n",
        "    path = \"/content/\" + project_name; \n",
        "    !mkdir \"{path}\"\n",
        "    %cd \"{path}\"\n",
        "    !git init\n",
        "    !git remote add origin https://github.com/\"{account}\"/\"{project_name}\".git\n",
        "    !git pull origin \"{branch}\"\n",
        "    !git checkout \"{branch}\"\n",
        "else:\n",
        "    %cd \"{project_path}\""
      ],
      "execution_count": null,
      "outputs": []
    },
    {
      "cell_type": "code",
      "metadata": {
        "id": "Bq_pdLr1p1Wf"
      },
      "source": [
        "!git status"
      ],
      "execution_count": null,
      "outputs": []
    },
    {
      "cell_type": "code",
      "metadata": {
        "id": "EKT3dcx0p1Wg"
      },
      "source": [
        "!git add . && git commit -m 'commit' && git push origin \"{branch}\""
      ],
      "execution_count": null,
      "outputs": []
    },
    {
      "cell_type": "code",
      "metadata": {
        "id": "Ez3BYNp6JExF"
      },
      "source": [
        "!dvc pull ./data/bronze/booking/*"
      ],
      "execution_count": null,
      "outputs": []
    },
    {
      "cell_type": "markdown",
      "metadata": {
        "id": "SZGyQmNZFlPH"
      },
      "source": [
        "## Context"
      ]
    },
    {
      "cell_type": "markdown",
      "metadata": {
        "id": "b9CFffH-FnFA"
      },
      "source": [
        "- Booking.com dataset\n",
        "    - Popularity recommender, hit rate evaluation\n"
      ]
    },
    {
      "cell_type": "markdown",
      "metadata": {
        "id": "lCEBxCM1FcLW"
      },
      "source": [
        "## Prototype"
      ]
    },
    {
      "cell_type": "code",
      "metadata": {
        "id": "JyJVyJgPNFZ8"
      },
      "source": [
        "import pandas as pd"
      ],
      "execution_count": null,
      "outputs": []
    },
    {
      "cell_type": "code",
      "metadata": {
        "colab": {
          "base_uri": "https://localhost:8080/",
          "height": 419
        },
        "id": "wkaGHauFMz3D",
        "outputId": "130a108a-d7c7-4761-f74e-d9d0f0a0e42a"
      },
      "source": [
        "train = pd.read_parquet('./data/bronze/booking/train.parquet.snappy')\n",
        "train = train.sort_values(by=['utrip_id','checkin'])\n",
        "train"
      ],
      "execution_count": null,
      "outputs": [
        {
          "output_type": "execute_result",
          "data": {
            "text/html": [
              "<div>\n",
              "<style scoped>\n",
              "    .dataframe tbody tr th:only-of-type {\n",
              "        vertical-align: middle;\n",
              "    }\n",
              "\n",
              "    .dataframe tbody tr th {\n",
              "        vertical-align: top;\n",
              "    }\n",
              "\n",
              "    .dataframe thead th {\n",
              "        text-align: right;\n",
              "    }\n",
              "</style>\n",
              "<table border=\"1\" class=\"dataframe\">\n",
              "  <thead>\n",
              "    <tr style=\"text-align: right;\">\n",
              "      <th></th>\n",
              "      <th>user_id</th>\n",
              "      <th>checkin</th>\n",
              "      <th>checkout</th>\n",
              "      <th>city_id</th>\n",
              "      <th>device_class</th>\n",
              "      <th>affiliate_id</th>\n",
              "      <th>booker_country</th>\n",
              "      <th>hotel_country</th>\n",
              "      <th>utrip_id</th>\n",
              "    </tr>\n",
              "  </thead>\n",
              "  <tbody>\n",
              "    <tr>\n",
              "      <th>0</th>\n",
              "      <td>1000027</td>\n",
              "      <td>2016-08-13</td>\n",
              "      <td>2016-08-14</td>\n",
              "      <td>8183</td>\n",
              "      <td>desktop</td>\n",
              "      <td>7168</td>\n",
              "      <td>Elbonia</td>\n",
              "      <td>Gondal</td>\n",
              "      <td>1000027_1</td>\n",
              "    </tr>\n",
              "    <tr>\n",
              "      <th>1</th>\n",
              "      <td>1000027</td>\n",
              "      <td>2016-08-14</td>\n",
              "      <td>2016-08-16</td>\n",
              "      <td>15626</td>\n",
              "      <td>desktop</td>\n",
              "      <td>7168</td>\n",
              "      <td>Elbonia</td>\n",
              "      <td>Gondal</td>\n",
              "      <td>1000027_1</td>\n",
              "    </tr>\n",
              "    <tr>\n",
              "      <th>2</th>\n",
              "      <td>1000027</td>\n",
              "      <td>2016-08-16</td>\n",
              "      <td>2016-08-18</td>\n",
              "      <td>60902</td>\n",
              "      <td>desktop</td>\n",
              "      <td>7168</td>\n",
              "      <td>Elbonia</td>\n",
              "      <td>Gondal</td>\n",
              "      <td>1000027_1</td>\n",
              "    </tr>\n",
              "    <tr>\n",
              "      <th>3</th>\n",
              "      <td>1000027</td>\n",
              "      <td>2016-08-18</td>\n",
              "      <td>2016-08-21</td>\n",
              "      <td>30628</td>\n",
              "      <td>desktop</td>\n",
              "      <td>253</td>\n",
              "      <td>Elbonia</td>\n",
              "      <td>Gondal</td>\n",
              "      <td>1000027_1</td>\n",
              "    </tr>\n",
              "    <tr>\n",
              "      <th>4</th>\n",
              "      <td>1000033</td>\n",
              "      <td>2016-04-09</td>\n",
              "      <td>2016-04-11</td>\n",
              "      <td>38677</td>\n",
              "      <td>mobile</td>\n",
              "      <td>359</td>\n",
              "      <td>Gondal</td>\n",
              "      <td>Cobra Island</td>\n",
              "      <td>1000033_1</td>\n",
              "    </tr>\n",
              "    <tr>\n",
              "      <th>...</th>\n",
              "      <td>...</td>\n",
              "      <td>...</td>\n",
              "      <td>...</td>\n",
              "      <td>...</td>\n",
              "      <td>...</td>\n",
              "      <td>...</td>\n",
              "      <td>...</td>\n",
              "      <td>...</td>\n",
              "      <td>...</td>\n",
              "    </tr>\n",
              "    <tr>\n",
              "      <th>1166830</th>\n",
              "      <td>999855</td>\n",
              "      <td>2016-05-01</td>\n",
              "      <td>2016-05-02</td>\n",
              "      <td>20345</td>\n",
              "      <td>mobile</td>\n",
              "      <td>359</td>\n",
              "      <td>Gondal</td>\n",
              "      <td>Fook Island</td>\n",
              "      <td>999855_1</td>\n",
              "    </tr>\n",
              "    <tr>\n",
              "      <th>1166831</th>\n",
              "      <td>999944</td>\n",
              "      <td>2016-06-23</td>\n",
              "      <td>2016-06-24</td>\n",
              "      <td>17944</td>\n",
              "      <td>desktop</td>\n",
              "      <td>4541</td>\n",
              "      <td>Gondal</td>\n",
              "      <td>Glubbdubdrib</td>\n",
              "      <td>999944_1</td>\n",
              "    </tr>\n",
              "    <tr>\n",
              "      <th>1166832</th>\n",
              "      <td>999944</td>\n",
              "      <td>2016-06-24</td>\n",
              "      <td>2016-06-27</td>\n",
              "      <td>47075</td>\n",
              "      <td>desktop</td>\n",
              "      <td>2322</td>\n",
              "      <td>Gondal</td>\n",
              "      <td>Glubbdubdrib</td>\n",
              "      <td>999944_1</td>\n",
              "    </tr>\n",
              "    <tr>\n",
              "      <th>1166833</th>\n",
              "      <td>999944</td>\n",
              "      <td>2016-06-27</td>\n",
              "      <td>2016-06-29</td>\n",
              "      <td>228</td>\n",
              "      <td>desktop</td>\n",
              "      <td>384</td>\n",
              "      <td>Gondal</td>\n",
              "      <td>Glubbdubdrib</td>\n",
              "      <td>999944_1</td>\n",
              "    </tr>\n",
              "    <tr>\n",
              "      <th>1166834</th>\n",
              "      <td>999944</td>\n",
              "      <td>2016-06-29</td>\n",
              "      <td>2016-06-30</td>\n",
              "      <td>62930</td>\n",
              "      <td>desktop</td>\n",
              "      <td>4541</td>\n",
              "      <td>Gondal</td>\n",
              "      <td>Glubbdubdrib</td>\n",
              "      <td>999944_1</td>\n",
              "    </tr>\n",
              "  </tbody>\n",
              "</table>\n",
              "<p>1166835 rows × 9 columns</p>\n",
              "</div>"
            ],
            "text/plain": [
              "         user_id     checkin  ... hotel_country   utrip_id\n",
              "0        1000027  2016-08-13  ...        Gondal  1000027_1\n",
              "1        1000027  2016-08-14  ...        Gondal  1000027_1\n",
              "2        1000027  2016-08-16  ...        Gondal  1000027_1\n",
              "3        1000027  2016-08-18  ...        Gondal  1000027_1\n",
              "4        1000033  2016-04-09  ...  Cobra Island  1000033_1\n",
              "...          ...         ...  ...           ...        ...\n",
              "1166830   999855  2016-05-01  ...   Fook Island   999855_1\n",
              "1166831   999944  2016-06-23  ...  Glubbdubdrib   999944_1\n",
              "1166832   999944  2016-06-24  ...  Glubbdubdrib   999944_1\n",
              "1166833   999944  2016-06-27  ...  Glubbdubdrib   999944_1\n",
              "1166834   999944  2016-06-29  ...  Glubbdubdrib   999944_1\n",
              "\n",
              "[1166835 rows x 9 columns]"
            ]
          },
          "metadata": {},
          "execution_count": 6
        }
      ]
    },
    {
      "cell_type": "code",
      "metadata": {
        "colab": {
          "base_uri": "https://localhost:8080/",
          "height": 589
        },
        "id": "X34UvBzRNZF3",
        "outputId": "cb1727d4-cfa1-4db7-d0ba-458ee7f70241"
      },
      "source": [
        "test = pd.read_parquet('./data/bronze/booking/test.parquet.snappy')\n",
        "test = test.sort_values(by=['utrip_id','checkin'])\n",
        "test"
      ],
      "execution_count": null,
      "outputs": [
        {
          "output_type": "execute_result",
          "data": {
            "text/html": [
              "<div>\n",
              "<style scoped>\n",
              "    .dataframe tbody tr th:only-of-type {\n",
              "        vertical-align: middle;\n",
              "    }\n",
              "\n",
              "    .dataframe tbody tr th {\n",
              "        vertical-align: top;\n",
              "    }\n",
              "\n",
              "    .dataframe thead th {\n",
              "        text-align: right;\n",
              "    }\n",
              "</style>\n",
              "<table border=\"1\" class=\"dataframe\">\n",
              "  <thead>\n",
              "    <tr style=\"text-align: right;\">\n",
              "      <th></th>\n",
              "      <th>user_id</th>\n",
              "      <th>checkin</th>\n",
              "      <th>checkout</th>\n",
              "      <th>device_class</th>\n",
              "      <th>affiliate_id</th>\n",
              "      <th>booker_country</th>\n",
              "      <th>utrip_id</th>\n",
              "      <th>city_id</th>\n",
              "      <th>hotel_country</th>\n",
              "    </tr>\n",
              "  </thead>\n",
              "  <tbody>\n",
              "    <tr>\n",
              "      <th>0</th>\n",
              "      <td>1000066</td>\n",
              "      <td>2016-07-21</td>\n",
              "      <td>2016-07-23</td>\n",
              "      <td>desktop</td>\n",
              "      <td>9924</td>\n",
              "      <td>Gondal</td>\n",
              "      <td>1000066_2</td>\n",
              "      <td>56430</td>\n",
              "      <td>Urkesh</td>\n",
              "    </tr>\n",
              "    <tr>\n",
              "      <th>1</th>\n",
              "      <td>1000066</td>\n",
              "      <td>2016-07-23</td>\n",
              "      <td>2016-07-25</td>\n",
              "      <td>desktop</td>\n",
              "      <td>9924</td>\n",
              "      <td>Gondal</td>\n",
              "      <td>1000066_2</td>\n",
              "      <td>41971</td>\n",
              "      <td>Urkesh</td>\n",
              "    </tr>\n",
              "    <tr>\n",
              "      <th>2</th>\n",
              "      <td>1000066</td>\n",
              "      <td>2016-07-25</td>\n",
              "      <td>2016-07-28</td>\n",
              "      <td>desktop</td>\n",
              "      <td>9924</td>\n",
              "      <td>Gondal</td>\n",
              "      <td>1000066_2</td>\n",
              "      <td>5797</td>\n",
              "      <td>Urkesh</td>\n",
              "    </tr>\n",
              "    <tr>\n",
              "      <th>3</th>\n",
              "      <td>1000066</td>\n",
              "      <td>2016-07-28</td>\n",
              "      <td>2016-07-31</td>\n",
              "      <td>mobile</td>\n",
              "      <td>2436</td>\n",
              "      <td>Gondal</td>\n",
              "      <td>1000066_2</td>\n",
              "      <td>0</td>\n",
              "      <td>None</td>\n",
              "    </tr>\n",
              "    <tr>\n",
              "      <th>4</th>\n",
              "      <td>1000270</td>\n",
              "      <td>2016-02-08</td>\n",
              "      <td>2016-02-09</td>\n",
              "      <td>mobile</td>\n",
              "      <td>9452</td>\n",
              "      <td>The Devilfire Empire</td>\n",
              "      <td>1000270_1</td>\n",
              "      <td>50075</td>\n",
              "      <td>The Devilfire Empire</td>\n",
              "    </tr>\n",
              "    <tr>\n",
              "      <th>...</th>\n",
              "      <td>...</td>\n",
              "      <td>...</td>\n",
              "      <td>...</td>\n",
              "      <td>...</td>\n",
              "      <td>...</td>\n",
              "      <td>...</td>\n",
              "      <td>...</td>\n",
              "      <td>...</td>\n",
              "      <td>...</td>\n",
              "    </tr>\n",
              "    <tr>\n",
              "      <th>378662</th>\n",
              "      <td>999911</td>\n",
              "      <td>2016-10-07</td>\n",
              "      <td>2016-10-08</td>\n",
              "      <td>desktop</td>\n",
              "      <td>9598</td>\n",
              "      <td>Gondal</td>\n",
              "      <td>999911_1</td>\n",
              "      <td>0</td>\n",
              "      <td>None</td>\n",
              "    </tr>\n",
              "    <tr>\n",
              "      <th>378663</th>\n",
              "      <td>999991</td>\n",
              "      <td>2016-08-15</td>\n",
              "      <td>2016-08-17</td>\n",
              "      <td>desktop</td>\n",
              "      <td>8065</td>\n",
              "      <td>Elbonia</td>\n",
              "      <td>999991_3</td>\n",
              "      <td>29770</td>\n",
              "      <td>Elbonia</td>\n",
              "    </tr>\n",
              "    <tr>\n",
              "      <th>378664</th>\n",
              "      <td>999991</td>\n",
              "      <td>2016-08-18</td>\n",
              "      <td>2016-08-19</td>\n",
              "      <td>desktop</td>\n",
              "      <td>8065</td>\n",
              "      <td>Elbonia</td>\n",
              "      <td>999991_3</td>\n",
              "      <td>36170</td>\n",
              "      <td>Carpathia</td>\n",
              "    </tr>\n",
              "    <tr>\n",
              "      <th>378665</th>\n",
              "      <td>999991</td>\n",
              "      <td>2016-08-19</td>\n",
              "      <td>2016-08-20</td>\n",
              "      <td>tablet</td>\n",
              "      <td>3631</td>\n",
              "      <td>Elbonia</td>\n",
              "      <td>999991_3</td>\n",
              "      <td>52155</td>\n",
              "      <td>Elbonia</td>\n",
              "    </tr>\n",
              "    <tr>\n",
              "      <th>378666</th>\n",
              "      <td>999991</td>\n",
              "      <td>2016-08-21</td>\n",
              "      <td>2016-08-22</td>\n",
              "      <td>tablet</td>\n",
              "      <td>3631</td>\n",
              "      <td>Elbonia</td>\n",
              "      <td>999991_3</td>\n",
              "      <td>0</td>\n",
              "      <td>None</td>\n",
              "    </tr>\n",
              "  </tbody>\n",
              "</table>\n",
              "<p>378667 rows × 9 columns</p>\n",
              "</div>"
            ],
            "text/plain": [
              "        user_id     checkin  ... city_id         hotel_country\n",
              "0       1000066  2016-07-21  ...   56430                Urkesh\n",
              "1       1000066  2016-07-23  ...   41971                Urkesh\n",
              "2       1000066  2016-07-25  ...    5797                Urkesh\n",
              "3       1000066  2016-07-28  ...       0                  None\n",
              "4       1000270  2016-02-08  ...   50075  The Devilfire Empire\n",
              "...         ...         ...  ...     ...                   ...\n",
              "378662   999911  2016-10-07  ...       0                  None\n",
              "378663   999991  2016-08-15  ...   29770               Elbonia\n",
              "378664   999991  2016-08-18  ...   36170             Carpathia\n",
              "378665   999991  2016-08-19  ...   52155               Elbonia\n",
              "378666   999991  2016-08-21  ...       0                  None\n",
              "\n",
              "[378667 rows x 9 columns]"
            ]
          },
          "metadata": {},
          "execution_count": 12
        }
      ]
    },
    {
      "cell_type": "code",
      "metadata": {
        "colab": {
          "base_uri": "https://localhost:8080/",
          "height": 419
        },
        "id": "wo1l1GuHNHjl",
        "outputId": "9eaad82f-a5f3-4846-b8fd-bff72f7bf787"
      },
      "source": [
        "# Generate Dummy Predictions - use top 4 cities in the trainset as benchmark recommendation\n",
        "topcities = train.city_id.value_counts().index[:4]\n",
        "\n",
        "test_trips = (test[['utrip_id']].drop_duplicates()).reset_index().drop('index', axis=1)\n",
        "\n",
        "cities_prediction = pd.DataFrame([topcities]*test_trips.shape[0], columns=['city_id_1','city_id_2','city_id_3','city_id_4'])\n",
        "\n",
        "cities_prediction = pd.concat([test_trips, cities_prediction], axis =1)\n",
        "cities_prediction"
      ],
      "execution_count": null,
      "outputs": [
        {
          "output_type": "execute_result",
          "data": {
            "text/html": [
              "<div>\n",
              "<style scoped>\n",
              "    .dataframe tbody tr th:only-of-type {\n",
              "        vertical-align: middle;\n",
              "    }\n",
              "\n",
              "    .dataframe tbody tr th {\n",
              "        vertical-align: top;\n",
              "    }\n",
              "\n",
              "    .dataframe thead th {\n",
              "        text-align: right;\n",
              "    }\n",
              "</style>\n",
              "<table border=\"1\" class=\"dataframe\">\n",
              "  <thead>\n",
              "    <tr style=\"text-align: right;\">\n",
              "      <th></th>\n",
              "      <th>utrip_id</th>\n",
              "      <th>city_id_1</th>\n",
              "      <th>city_id_2</th>\n",
              "      <th>city_id_3</th>\n",
              "      <th>city_id_4</th>\n",
              "    </tr>\n",
              "  </thead>\n",
              "  <tbody>\n",
              "    <tr>\n",
              "      <th>0</th>\n",
              "      <td>1000066_2</td>\n",
              "      <td>47499</td>\n",
              "      <td>23921</td>\n",
              "      <td>36063</td>\n",
              "      <td>17013</td>\n",
              "    </tr>\n",
              "    <tr>\n",
              "      <th>1</th>\n",
              "      <td>1000270_1</td>\n",
              "      <td>47499</td>\n",
              "      <td>23921</td>\n",
              "      <td>36063</td>\n",
              "      <td>17013</td>\n",
              "    </tr>\n",
              "    <tr>\n",
              "      <th>2</th>\n",
              "      <td>1000441_1</td>\n",
              "      <td>47499</td>\n",
              "      <td>23921</td>\n",
              "      <td>36063</td>\n",
              "      <td>17013</td>\n",
              "    </tr>\n",
              "    <tr>\n",
              "      <th>3</th>\n",
              "      <td>100048_1</td>\n",
              "      <td>47499</td>\n",
              "      <td>23921</td>\n",
              "      <td>36063</td>\n",
              "      <td>17013</td>\n",
              "    </tr>\n",
              "    <tr>\n",
              "      <th>4</th>\n",
              "      <td>1000543_1</td>\n",
              "      <td>47499</td>\n",
              "      <td>23921</td>\n",
              "      <td>36063</td>\n",
              "      <td>17013</td>\n",
              "    </tr>\n",
              "    <tr>\n",
              "      <th>...</th>\n",
              "      <td>...</td>\n",
              "      <td>...</td>\n",
              "      <td>...</td>\n",
              "      <td>...</td>\n",
              "      <td>...</td>\n",
              "    </tr>\n",
              "    <tr>\n",
              "      <th>70657</th>\n",
              "      <td>999674_1</td>\n",
              "      <td>47499</td>\n",
              "      <td>23921</td>\n",
              "      <td>36063</td>\n",
              "      <td>17013</td>\n",
              "    </tr>\n",
              "    <tr>\n",
              "      <th>70658</th>\n",
              "      <td>999797_1</td>\n",
              "      <td>47499</td>\n",
              "      <td>23921</td>\n",
              "      <td>36063</td>\n",
              "      <td>17013</td>\n",
              "    </tr>\n",
              "    <tr>\n",
              "      <th>70659</th>\n",
              "      <td>999862_1</td>\n",
              "      <td>47499</td>\n",
              "      <td>23921</td>\n",
              "      <td>36063</td>\n",
              "      <td>17013</td>\n",
              "    </tr>\n",
              "    <tr>\n",
              "      <th>70660</th>\n",
              "      <td>999911_1</td>\n",
              "      <td>47499</td>\n",
              "      <td>23921</td>\n",
              "      <td>36063</td>\n",
              "      <td>17013</td>\n",
              "    </tr>\n",
              "    <tr>\n",
              "      <th>70661</th>\n",
              "      <td>999991_3</td>\n",
              "      <td>47499</td>\n",
              "      <td>23921</td>\n",
              "      <td>36063</td>\n",
              "      <td>17013</td>\n",
              "    </tr>\n",
              "  </tbody>\n",
              "</table>\n",
              "<p>70662 rows × 5 columns</p>\n",
              "</div>"
            ],
            "text/plain": [
              "        utrip_id  city_id_1  city_id_2  city_id_3  city_id_4\n",
              "0      1000066_2      47499      23921      36063      17013\n",
              "1      1000270_1      47499      23921      36063      17013\n",
              "2      1000441_1      47499      23921      36063      17013\n",
              "3       100048_1      47499      23921      36063      17013\n",
              "4      1000543_1      47499      23921      36063      17013\n",
              "...          ...        ...        ...        ...        ...\n",
              "70657   999674_1      47499      23921      36063      17013\n",
              "70658   999797_1      47499      23921      36063      17013\n",
              "70659   999862_1      47499      23921      36063      17013\n",
              "70660   999911_1      47499      23921      36063      17013\n",
              "70661   999991_3      47499      23921      36063      17013\n",
              "\n",
              "[70662 rows x 5 columns]"
            ]
          },
          "metadata": {},
          "execution_count": 23
        }
      ]
    },
    {
      "cell_type": "code",
      "metadata": {
        "colab": {
          "base_uri": "https://localhost:8080/",
          "height": 450
        },
        "id": "ENsq0VxUOHP9",
        "outputId": "b2113edb-1cf2-4e59-971a-dd9d4a292722"
      },
      "source": [
        "ground_truth = pd.read_parquet('./data/bronze/booking/ground_truth.parquet.snappy')\n",
        "ground_truth.set_index('utrip_id', inplace=True)\n",
        "ground_truth"
      ],
      "execution_count": null,
      "outputs": [
        {
          "output_type": "execute_result",
          "data": {
            "text/html": [
              "<div>\n",
              "<style scoped>\n",
              "    .dataframe tbody tr th:only-of-type {\n",
              "        vertical-align: middle;\n",
              "    }\n",
              "\n",
              "    .dataframe tbody tr th {\n",
              "        vertical-align: top;\n",
              "    }\n",
              "\n",
              "    .dataframe thead th {\n",
              "        text-align: right;\n",
              "    }\n",
              "</style>\n",
              "<table border=\"1\" class=\"dataframe\">\n",
              "  <thead>\n",
              "    <tr style=\"text-align: right;\">\n",
              "      <th></th>\n",
              "      <th>city_id</th>\n",
              "      <th>hotel_country</th>\n",
              "    </tr>\n",
              "    <tr>\n",
              "      <th>utrip_id</th>\n",
              "      <th></th>\n",
              "      <th></th>\n",
              "    </tr>\n",
              "  </thead>\n",
              "  <tbody>\n",
              "    <tr>\n",
              "      <th>1038944_1</th>\n",
              "      <td>54085</td>\n",
              "      <td>Sokovia</td>\n",
              "    </tr>\n",
              "    <tr>\n",
              "      <th>1068715_1</th>\n",
              "      <td>29319</td>\n",
              "      <td>Cobra Island</td>\n",
              "    </tr>\n",
              "    <tr>\n",
              "      <th>1075528_1</th>\n",
              "      <td>55763</td>\n",
              "      <td>Bozatta</td>\n",
              "    </tr>\n",
              "    <tr>\n",
              "      <th>1110462_4</th>\n",
              "      <td>11930</td>\n",
              "      <td>Alvonia</td>\n",
              "    </tr>\n",
              "    <tr>\n",
              "      <th>1132565_1</th>\n",
              "      <td>58659</td>\n",
              "      <td>Axphain</td>\n",
              "    </tr>\n",
              "    <tr>\n",
              "      <th>...</th>\n",
              "      <td>...</td>\n",
              "      <td>...</td>\n",
              "    </tr>\n",
              "    <tr>\n",
              "      <th>881470_1</th>\n",
              "      <td>28422</td>\n",
              "      <td>Cobra Island</td>\n",
              "    </tr>\n",
              "    <tr>\n",
              "      <th>886479_1</th>\n",
              "      <td>51291</td>\n",
              "      <td>Glubbdubdrib</td>\n",
              "    </tr>\n",
              "    <tr>\n",
              "      <th>90072_1</th>\n",
              "      <td>22175</td>\n",
              "      <td>Cobra Island</td>\n",
              "    </tr>\n",
              "    <tr>\n",
              "      <th>96245_1</th>\n",
              "      <td>58135</td>\n",
              "      <td>Nevoruss</td>\n",
              "    </tr>\n",
              "    <tr>\n",
              "      <th>990535_1</th>\n",
              "      <td>56503</td>\n",
              "      <td>Axphain</td>\n",
              "    </tr>\n",
              "  </tbody>\n",
              "</table>\n",
              "<p>70662 rows × 2 columns</p>\n",
              "</div>"
            ],
            "text/plain": [
              "           city_id hotel_country\n",
              "utrip_id                        \n",
              "1038944_1    54085       Sokovia\n",
              "1068715_1    29319  Cobra Island\n",
              "1075528_1    55763       Bozatta\n",
              "1110462_4    11930       Alvonia\n",
              "1132565_1    58659       Axphain\n",
              "...            ...           ...\n",
              "881470_1     28422  Cobra Island\n",
              "886479_1     51291  Glubbdubdrib\n",
              "90072_1      22175  Cobra Island\n",
              "96245_1      58135      Nevoruss\n",
              "990535_1     56503       Axphain\n",
              "\n",
              "[70662 rows x 2 columns]"
            ]
          },
          "metadata": {},
          "execution_count": 18
        }
      ]
    },
    {
      "cell_type": "code",
      "metadata": {
        "id": "Q2maoXWbN-S_"
      },
      "source": [
        "def evaluate_accuracy_at_4(predicted, actual):\n",
        "    '''checks if the true city is within the four recommended cities'''\n",
        "    data = predicted.join(actual, on='utrip_id')\n",
        "\n",
        "    hits = ((data['city_id']==data['city_id_1'])|(data['city_id']==data['city_id_2'])|\n",
        "        (data['city_id']==data['city_id_3'])|(data['city_id']==data['city_id_4']))*1\n",
        "    return hits.mean()"
      ],
      "execution_count": null,
      "outputs": []
    },
    {
      "cell_type": "code",
      "metadata": {
        "id": "EbeGDIoyN_mp"
      },
      "source": [
        "evaluate_accuracy_at_4(cities_prediction, ground_truth)"
      ],
      "execution_count": null,
      "outputs": []
    },
    {
      "cell_type": "markdown",
      "metadata": {
        "id": "gvEoJau1KaiU"
      },
      "source": [
        "## Tests"
      ]
    },
    {
      "cell_type": "code",
      "metadata": {
        "id": "9TnNISyzKcY_"
      },
      "source": [
        "!pip install -q ipytest\n",
        "import ipytest\n",
        "ipytest.autoconfig()"
      ],
      "execution_count": null,
      "outputs": []
    },
    {
      "cell_type": "code",
      "metadata": {
        "id": "ctvELvsJcrO7"
      },
      "source": [
        "# %%ipytest\n"
      ],
      "execution_count": null,
      "outputs": []
    },
    {
      "cell_type": "code",
      "metadata": {
        "id": "3pd8Iwxbh08i"
      },
      "source": [
        "train = Dataset(path: str)\n",
        "test = Dataset(path: str)\n",
        "model = Model()\n",
        "model.fit(train: pd.DataFrame)\n",
        "model.recommend(test: pd.DataFrame, topk=4)\n",
        "\n",
        "metrics = Metrics()\n",
        "hr = metrics.HitRate(k=4)\n",
        "\n",
        "eval = Evaluator(model,\n",
        "                 data = test,\n",
        "                 metrics=[hr])\n",
        "eval.evaluate()\n",
        "eval.save_results(path: str)"
      ],
      "execution_count": null,
      "outputs": []
    },
    {
      "cell_type": "markdown",
      "metadata": {
        "id": "5Ewbbn7gYlo7"
      },
      "source": [
        "## Dev"
      ]
    },
    {
      "cell_type": "code",
      "metadata": {
        "id": "5PeruxlZg6rW"
      },
      "source": [
        "import numpy as np\n",
        "import pandas as pd\n",
        "from typing import List"
      ],
      "execution_count": 65,
      "outputs": []
    },
    {
      "cell_type": "code",
      "metadata": {
        "id": "Sw8Ij75jJJro"
      },
      "source": [
        "class Dataset:\n",
        "    def __init__(self, data=None):\n",
        "        self.data = data\n",
        "\n",
        "    def load(self, path, type='parquet'):\n",
        "        if type=='parquet':\n",
        "            self.data = pd.read_parquet(path)\n",
        "        return self\n",
        "\n",
        "    def sort(self, by: List):\n",
        "        self.data.sort_values(by=by)\n",
        "        return self\n",
        "\n",
        "    def filter(self, by='cols', keep=[]):\n",
        "        if by=='cols':\n",
        "            self.data = self.data[keep]\n",
        "        return self\n",
        "    \n",
        "    def rename(self, rename_map):\n",
        "        self.data = self.data.rename(columns=rename_map)\n",
        "        return self\n",
        "    \n",
        "    def cast(self, schema_map):\n",
        "        self.data = self.data.astype(schema_map)\n",
        "        return self\n",
        "\n",
        "    def __repr__(self):\n",
        "        return '{}\\n{}\\n{}\\n{}'\\\n",
        "        .format(\n",
        "            self.data.info(),\n",
        "            '='*100,\n",
        "            self.data.head(),\n",
        "            '='*100\n",
        "            )"
      ],
      "execution_count": 54,
      "outputs": []
    },
    {
      "cell_type": "code",
      "metadata": {
        "id": "eIBJmW8tJdeN"
      },
      "source": [
        "class Model:\n",
        "    def __init__(self):\n",
        "        self.items_by_popularity = []\n",
        "\n",
        "    def fit(self, train):\n",
        "        self.items_by_popularity = train.data['ITEM_ID'].value_counts().index.tolist()\n",
        "\n",
        "    def recommend(self, uid=None, topk=4):\n",
        "        return self.items_by_popularity[:topk]"
      ],
      "execution_count": 60,
      "outputs": []
    },
    {
      "cell_type": "code",
      "metadata": {
        "id": "AKHsp25GdIFn"
      },
      "source": [
        "class HitRate:\n",
        "    def __init__(self, k=4):\n",
        "        self.k = k\n",
        "\n",
        "    def calculate(self, recommended_list, actual_list):\n",
        "        actual_list = np.array(actual_list) \n",
        "        recommended_list = np.array(recommended_list)[:self.k]\n",
        "        flags = np.isin(actual_list, recommended_list) \n",
        "        return (flags.sum() > 0) * 1\n",
        "\n",
        "    def __repr__(self):\n",
        "        return 'HR@{}'.format(self.k)"
      ],
      "execution_count": 67,
      "outputs": []
    },
    {
      "cell_type": "code",
      "metadata": {
        "id": "Zg6ZlHGMKVjc"
      },
      "source": [
        "class Evaluate:\n",
        "    def __init__(self, model, test_ids, ground_truth, metrics):\n",
        "        self.model = model\n",
        "        self.test_ids = test_ids\n",
        "        self.ground_truth = ground_truth\n",
        "        self.metrics = metrics\n",
        "        self.results = {}\n",
        "        self.recommendations = {}\n",
        "        self._calculate_recommendations()\n",
        "    \n",
        "    def _calculate_recommendations(self):\n",
        "        for test_id in self.test_ids:\n",
        "            self.recommendations[test_id] = self.model.recommend(test_id)\n",
        "\n",
        "    def evaluate(self):\n",
        "        for metric in self.metrics:\n",
        "            self.results[metric] = 0\n",
        "            scores = []\n",
        "            for test_id in self.test_ids:\n",
        "                actual_list = self.ground_truth[test_id]\n",
        "                recommended_list = self.recommendations[test_id]\n",
        "                score = metric.calculate(recommended_list=recommended_list,\n",
        "                                         actual_list=actual_list)\n",
        "                scores.append(score)\n",
        "            self.results[metric] = np.mean(scores)\n",
        "        return self\n",
        "\n",
        "    def save_results(self, path):\n",
        "        with open(path, 'wt') as handle:\n",
        "            self.results.write(str(handle))\n",
        "    \n",
        "    def __repr__(self):\n",
        "        return str(self.results)"
      ],
      "execution_count": 107,
      "outputs": []
    },
    {
      "cell_type": "markdown",
      "metadata": {
        "id": "s43SXdMzgmVw"
      },
      "source": [
        "---"
      ]
    },
    {
      "cell_type": "code",
      "metadata": {
        "id": "k22cNx-fieRJ",
        "colab": {
          "base_uri": "https://localhost:8080/"
        },
        "outputId": "a54ea4c6-75d0-4ffd-b4af-93d83b55ca30"
      },
      "source": [
        "train = Dataset()\n",
        "\n",
        "train_info = train.load('./data/bronze/booking/train.parquet.snappy')\\\n",
        "                        .sort(by=['utrip_id','checkin'])\\\n",
        "                        .filter(by='cols', keep=['utrip_id','city_id'])\\\n",
        "                        .rename({'utrip_id':'USER_ID','city_id':'ITEM_ID'})\\\n",
        "                        .cast({'USER_ID':'str', 'ITEM_ID':'str'})\n",
        "train_info"
      ],
      "execution_count": 56,
      "outputs": [
        {
          "output_type": "stream",
          "name": "stdout",
          "text": [
            "<class 'pandas.core.frame.DataFrame'>\n",
            "RangeIndex: 1166835 entries, 0 to 1166834\n",
            "Data columns (total 2 columns):\n",
            " #   Column   Non-Null Count    Dtype \n",
            "---  ------   --------------    ----- \n",
            " 0   USER_ID  1166835 non-null  object\n",
            " 1   ITEM_ID  1166835 non-null  object\n",
            "dtypes: object(2)\n",
            "memory usage: 17.8+ MB\n"
          ]
        },
        {
          "output_type": "execute_result",
          "data": {
            "text/plain": [
              "None\n",
              "====================================================================================================\n",
              "     USER_ID ITEM_ID\n",
              "0  1000027_1    8183\n",
              "1  1000027_1   15626\n",
              "2  1000027_1   60902\n",
              "3  1000027_1   30628\n",
              "4  1000033_1   38677\n",
              "===================================================================================================="
            ]
          },
          "metadata": {},
          "execution_count": 56
        }
      ]
    },
    {
      "cell_type": "code",
      "metadata": {
        "colab": {
          "base_uri": "https://localhost:8080/"
        },
        "id": "tdZT8bW6jVGg",
        "outputId": "8c9bd86c-2f85-4edf-f330-f137dba854a3"
      },
      "source": [
        "test = Dataset()\n",
        "\n",
        "test_info = test.load('./data/bronze/booking/test.parquet.snappy')\\\n",
        "                        .sort(by=['utrip_id','checkin'])\\\n",
        "                        .filter(by='cols', keep=['utrip_id','city_id'])\\\n",
        "                        .rename({'utrip_id':'USER_ID','city_id':'ITEM_ID'})\\\n",
        "                        .cast({'USER_ID':'str', 'ITEM_ID':'str'})\n",
        "test_info"
      ],
      "execution_count": 57,
      "outputs": [
        {
          "output_type": "stream",
          "name": "stdout",
          "text": [
            "<class 'pandas.core.frame.DataFrame'>\n",
            "RangeIndex: 378667 entries, 0 to 378666\n",
            "Data columns (total 2 columns):\n",
            " #   Column   Non-Null Count   Dtype \n",
            "---  ------   --------------   ----- \n",
            " 0   USER_ID  378667 non-null  object\n",
            " 1   ITEM_ID  378667 non-null  object\n",
            "dtypes: object(2)\n",
            "memory usage: 5.8+ MB\n"
          ]
        },
        {
          "output_type": "execute_result",
          "data": {
            "text/plain": [
              "None\n",
              "====================================================================================================\n",
              "     USER_ID ITEM_ID\n",
              "0  1000066_2   56430\n",
              "1  1000066_2   41971\n",
              "2  1000066_2    5797\n",
              "3  1000066_2       0\n",
              "4  1000270_1   50075\n",
              "===================================================================================================="
            ]
          },
          "metadata": {},
          "execution_count": 57
        }
      ]
    },
    {
      "cell_type": "code",
      "metadata": {
        "colab": {
          "base_uri": "https://localhost:8080/"
        },
        "id": "FPtEFAe_cUps",
        "outputId": "b8b429a9-f17a-43a7-91e7-da116ee72eda"
      },
      "source": [
        "model = Model()\n",
        "model.fit(train)\n",
        "model.recommend('1000066_2')"
      ],
      "execution_count": 63,
      "outputs": [
        {
          "output_type": "execute_result",
          "data": {
            "text/plain": [
              "['47499', '23921', '36063', '17013']"
            ]
          },
          "metadata": {},
          "execution_count": 63
        }
      ]
    },
    {
      "cell_type": "code",
      "metadata": {
        "colab": {
          "base_uri": "https://localhost:8080/"
        },
        "id": "B7W5XpXGcXYu",
        "outputId": "c561c167-598b-4bb4-82eb-84f3bae37cc4"
      },
      "source": [
        "hitrate = HitRate(k=4)\n",
        "hitrate\n",
        "print(hitrate.calculate(recommended_list=['1','2','3','4','5'], actual_list = ['4']))\n",
        "print(hitrate.calculate(recommended_list=['1','2','3','4','5'], actual_list = ['5']))"
      ],
      "execution_count": 74,
      "outputs": [
        {
          "output_type": "stream",
          "name": "stdout",
          "text": [
            "1\n",
            "0\n"
          ]
        }
      ]
    },
    {
      "cell_type": "code",
      "metadata": {
        "colab": {
          "base_uri": "https://localhost:8080/"
        },
        "id": "iqaekUZ-o7k-",
        "outputId": "d55e798c-e9bb-4c97-a37c-7a7cb892be2a"
      },
      "source": [
        "ground_truth = Dataset()\n",
        "\n",
        "gt_info = ground_truth.load('./data/bronze/booking/ground_truth.parquet.snappy')\\\n",
        "                            .filter(by='cols', keep=['utrip_id','city_id'])\\\n",
        "                            .rename({'utrip_id':'USER_ID','city_id':'ITEM_ID'})\\\n",
        "                            .cast({'USER_ID':'str', 'ITEM_ID':'str'})\n",
        "\n",
        "ground_truth = ground_truth.data\\\n",
        "                    .drop_duplicates(subset='USER_ID', keep='last')\\\n",
        "                    .set_index('USER_ID')\\\n",
        "                    .to_dict()['ITEM_ID']\n",
        "\n",
        "print(type(ground_truth), len(ground_truth.keys()))"
      ],
      "execution_count": 89,
      "outputs": [
        {
          "output_type": "stream",
          "name": "stdout",
          "text": [
            "<class 'dict'> 70662\n"
          ]
        }
      ]
    },
    {
      "cell_type": "code",
      "metadata": {
        "id": "glYtKR5SmDWM"
      },
      "source": [
        "eval = Evaluate(model=model,\n",
        "                test_ids=test.data.USER_ID.unique(),\n",
        "                ground_truth=ground_truth,\n",
        "                metrics=[hitrate])"
      ],
      "execution_count": 108,
      "outputs": []
    },
    {
      "cell_type": "code",
      "metadata": {
        "colab": {
          "base_uri": "https://localhost:8080/"
        },
        "id": "mF3AndoQm2iS",
        "outputId": "7e930c5b-9dad-4573-cfd7-50df39752d8b"
      },
      "source": [
        "eval.evaluate()"
      ],
      "execution_count": 109,
      "outputs": [
        {
          "output_type": "execute_result",
          "data": {
            "text/plain": [
              "{HR@4: 0.05271574537941185}"
            ]
          },
          "metadata": {},
          "execution_count": 109
        }
      ]
    }
  ]
}